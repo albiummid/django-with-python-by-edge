{
  "nbformat": 4,
  "nbformat_minor": 0,
  "metadata": {
    "colab": {
      "provenance": [],
      "mount_file_id": "1qBLusbg5BghZ2SysLX4bwadE4rDjHarV",
      "authorship_tag": "ABX9TyOIzygZgxxxueASGxpsyZnG",
      "include_colab_link": true
    },
    "kernelspec": {
      "name": "python3",
      "display_name": "Python 3"
    },
    "language_info": {
      "name": "python"
    }
  },
  "cells": [
    {
      "cell_type": "markdown",
      "metadata": {
        "id": "view-in-github",
        "colab_type": "text"
      },
      "source": [
        "<a href=\"https://colab.research.google.com/github/albiummid/django-with-python-by-edge/blob/main/Assignmemnt_pratice_file_handling.ipynb\" target=\"_parent\"><img src=\"https://colab.research.google.com/assets/colab-badge.svg\" alt=\"Open In Colab\"/></a>"
      ]
    },
    {
      "cell_type": "code",
      "execution_count": 7,
      "metadata": {
        "colab": {
          "base_uri": "https://localhost:8080/"
        },
        "id": "BtnxQ4o2x_IE",
        "outputId": "079b736f-0da2-43e7-b75d-b67b12b070d3"
      },
      "outputs": [
        {
          "output_type": "stream",
          "name": "stdout",
          "text": [
            "File Content (Read):\n",
            "This is a sample file.\n",
            "This file is used for testing operations.\n",
            "\n",
            "Updated File Content (Read):\n",
            "This is a sample file.\n",
            "This file is used for testing operations.\n",
            "Added more content for testing.\n",
            "'testing' found in the file.\n",
            "example.txt has been deleted.\n"
          ]
        }
      ],
      "source": [
        "# 1. Write: Write data to a file\n",
        "def write_to_file(filename, content):\n",
        "    with open(filename, 'w') as file:\n",
        "        file.write(content)\n",
        "\n",
        "# 2. Read: Read data from a file\n",
        "def read_from_file(filename):\n",
        "    with open(filename, 'r') as file:\n",
        "        content = file.read()\n",
        "    return content\n",
        "\n",
        "# 3. Update: Update data in the file (append new data)\n",
        "def update_file(filename, content):\n",
        "    with open(filename, 'a') as file:\n",
        "        file.write(content)\n",
        "\n",
        "# 4. Delete: Delete the file\n",
        "import os\n",
        "def delete_file(filename):\n",
        "    if os.path.exists(filename):\n",
        "        os.remove(filename)\n",
        "        print(f\"{filename} has been deleted.\")\n",
        "    else:\n",
        "        print(f\"{filename} does not exist.\")\n",
        "\n",
        "# 5. Search: Search for a specific word in the file\n",
        "def search_in_file(filename, word):\n",
        "    with open(filename, 'r') as file:\n",
        "        content = file.read()\n",
        "        if word in content:\n",
        "            print(f\"'{word}' found in the file.\")\n",
        "        else:\n",
        "            print(f\"'{word}' not found in the file.\")\n",
        "\n",
        "# Example Usage\n",
        "filename = 'example.txt'\n",
        "\n",
        "# Write to file\n",
        "write_to_file(filename, \"This is a sample file.\\nThis file is used for testing operations.\")\n",
        "\n",
        "# Read from file\n",
        "print(\"File Content (Read):\")\n",
        "print(read_from_file(filename))\n",
        "\n",
        "# Update the file\n",
        "update_file(filename, \"\\nAdded more content for testing.\")\n",
        "\n",
        "# Read updated content\n",
        "print(\"\\nUpdated File Content (Read):\")\n",
        "print(read_from_file(filename))\n",
        "\n",
        "# Search in the file\n",
        "search_in_file(filename, \"testing\")\n",
        "\n",
        "# Delete the file\n",
        "delete_file(filename)\n"
      ]
    },
    {
      "cell_type": "code",
      "source": [],
      "metadata": {
        "id": "3WX9yZr-1ibU"
      },
      "execution_count": null,
      "outputs": []
    }
  ]
}