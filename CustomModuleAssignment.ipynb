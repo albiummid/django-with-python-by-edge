{
  "nbformat": 4,
  "nbformat_minor": 0,
  "metadata": {
    "colab": {
      "provenance": [],
      "authorship_tag": "ABX9TyN2m2OZLV2Mp+Fl+za5L9JH",
      "include_colab_link": true
    },
    "kernelspec": {
      "name": "python3",
      "display_name": "Python 3"
    },
    "language_info": {
      "name": "python"
    }
  },
  "cells": [
    {
      "cell_type": "markdown",
      "metadata": {
        "id": "view-in-github",
        "colab_type": "text"
      },
      "source": [
        "<a href=\"https://colab.research.google.com/github/albiummid/django-with-python-by-edge/blob/main/CustomModuleAssignment.ipynb\" target=\"_parent\"><img src=\"https://colab.research.google.com/assets/colab-badge.svg\" alt=\"Open In Colab\"/></a>"
      ]
    },
    {
      "cell_type": "code",
      "execution_count": 6,
      "metadata": {
        "id": "KFuMsZOAyn9l",
        "colab": {
          "base_uri": "https://localhost:8080/"
        },
        "outputId": "72541a6d-7e01-493b-ac3e-a7652b361331"
      },
      "outputs": [
        {
          "output_type": "stream",
          "name": "stdout",
          "text": [
            "No missing Val\n",
            "['Bananana', 'Cherry']\n"
          ]
        }
      ],
      "source": [
        "# Getting missing values from two array\n",
        "\n",
        "def getMissingVals(list, endOfFirstList, startOf2ndList):\n",
        "  first_list = list[:endOfFirstList]\n",
        "  second_list = list[startOf2ndList:]\n",
        "  merged_list = first_list + second_list\n",
        "\n",
        "  missing_list = []\n",
        "  for item in list:\n",
        "    if item not in merged_list:\n",
        "      missing_list.append(item)\n",
        "\n",
        "  if len(missing_list) == 0:\n",
        "    return  \"No missing Val\"\n",
        "  else:\n",
        "    return missing_list\n",
        "\n",
        "# Testing\n",
        "fruits = [\"Apple\",\"Bananana\",\"Cherry\",\"Mango\",\"Jackfruit\"]\n",
        "\n",
        "# When no missing value\n",
        "print(getMissingVals(fruits,1,1))\n",
        "\n",
        "# When some value is missing\n",
        "print(getMissingVals(fruits,1,3))\n"
      ]
    }
  ]
}