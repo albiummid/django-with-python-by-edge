{
  "nbformat": 4,
  "nbformat_minor": 0,
  "metadata": {
    "colab": {
      "provenance": [],
      "mount_file_id": "1Ygh5m-KcjFcdOoNu3O5LLDnthDI2SiGC",
      "authorship_tag": "ABX9TyMs3TmW136vKdVgiixcWhXY",
      "include_colab_link": true
    },
    "kernelspec": {
      "name": "python3",
      "display_name": "Python 3"
    },
    "language_info": {
      "name": "python"
    }
  },
  "cells": [
    {
      "cell_type": "markdown",
      "metadata": {
        "id": "view-in-github",
        "colab_type": "text"
      },
      "source": [
        "<a href=\"https://colab.research.google.com/github/albiummid/django-with-python-by-edge/blob/main/22DecTuple.ipynb\" target=\"_parent\"><img src=\"https://colab.research.google.com/assets/colab-badge.svg\" alt=\"Open In Colab\"/></a>"
      ]
    },
    {
      "cell_type": "code",
      "execution_count": null,
      "metadata": {
        "colab": {
          "base_uri": "https://localhost:8080/"
        },
        "id": "t5t5vzi_rcDG",
        "outputId": "f31f3ccc-4e65-4c27-e14b-5fea86780a95"
      },
      "outputs": [
        {
          "output_type": "stream",
          "name": "stdout",
          "text": [
            "Item: Albi , Index: 0\n",
            "\n",
            "Item: Ummid , Index: 1\n",
            "\n",
            "Item: Tanvir , Index: 2\n",
            "\n",
            "Item: Hassan , Index: 3\n",
            "\n",
            "Item: Tonoy , Index: 4\n",
            "\n",
            "Item: 1 , Index: 0\n",
            "\n",
            "Item: 3 , Index: 1\n",
            "\n",
            "Item: 5 , Index: 2\n",
            "\n",
            "Item: 7 , Index: 3\n",
            "\n",
            "Item: 9 , Index: 4\n",
            "\n",
            "Item: True , Index: 0\n",
            "\n",
            "Item: False , Index: 1\n",
            "\n",
            "Item: False , Index: 1\n",
            "\n",
            "Item: True , Index: 0\n",
            "\n"
          ]
        }
      ],
      "source": [
        "# Tupple\n",
        "tupple1 = (\"Albi\",\"Ummid\",\"Tanvir\",\"Hassan\",\"Tonoy\")\n",
        "tupple2 = (1,3,5,7,9)\n",
        "tupple3 = (True,False,False,True)\n",
        "\n",
        "for x in tupple1:\n",
        "  print(f\"Item: {x} , Index: {tupple1.index(x)}\\n\")\n",
        "for x in tupple2:\n",
        "  print(f\"Item: {x} , Index: {tupple2.index(x)}\\n\")\n",
        "for x in tupple3:\n",
        "  print(f\"Item: {x} , Index: {tupple3.index(x)}\\n\")"
      ]
    },
    {
      "cell_type": "code",
      "source": [
        "\n",
        "# Define a tuple\n",
        "example_tuple = (1, 2, 3, 3, 4, 5)\n",
        "\n",
        "# Ordered: Access elements by index\n",
        "print(\"First element:\", example_tuple[0])  # Output: 1\n",
        "print(\"Last element:\", example_tuple[-1])  # Output: 5\n",
        "\n",
        "# Unchangeable: Attempting to change an element raises an error\n",
        "try:\n",
        "    example_tuple[1] = 10  # This will raise an error\n",
        "except TypeError as e:\n",
        "    print(\"Error:\", e)\n",
        "\n",
        "# Allows duplicates: Tuple can have repeated elements\n",
        "print(\"Original tuple:\", example_tuple)  # Output: (1, 2, 3, 3, 4, 5)\n",
        "print(\"Count of 3:\", example_tuple.count(3))  # Output: 2\n",
        "\n",
        "# Iterating over the tuple (demonstrating order)\n",
        "for item in example_tuple:\n",
        "    print(item, end=\" \")  # Output: 1 2 3 3 4 5"
      ],
      "metadata": {
        "id": "NzIxBqht1kBb",
        "outputId": "42d26741-cf43-4745-bc68-e85b2ed63ae9",
        "colab": {
          "base_uri": "https://localhost:8080/"
        }
      },
      "execution_count": null,
      "outputs": [
        {
          "output_type": "stream",
          "name": "stdout",
          "text": [
            "First element: 1\n",
            "Last element: 5\n",
            "Error: 'tuple' object does not support item assignment\n",
            "Original tuple: (1, 2, 3, 3, 4, 5)\n",
            "Count of 3: 2\n",
            "1 2 3 3 4 5 "
          ]
        }
      ]
    },
    {
      "cell_type": "code",
      "source": [
        "# Length of tupple\n",
        "tupple1 = (\"Hello\",4,5,\"World\")\n",
        "print(len(tupple1))"
      ],
      "metadata": {
        "colab": {
          "base_uri": "https://localhost:8080/"
        },
        "id": "TFbnma3zr9WJ",
        "outputId": "497e10c2-9d28-47eb-eb04-96cd7d1f9831"
      },
      "execution_count": null,
      "outputs": [
        {
          "output_type": "stream",
          "name": "stdout",
          "text": [
            "4\n"
          ]
        }
      ]
    },
    {
      "cell_type": "code",
      "source": [
        "# Tupple with tupple() class\n",
        "thisTupple = tuple((\"Albi\",\"Ummid\",\"Tanvir\"))\n",
        "print(thisTupple)"
      ],
      "metadata": {
        "colab": {
          "base_uri": "https://localhost:8080/"
        },
        "id": "lBXOim4Ft61O",
        "outputId": "65d53eab-ea8e-4911-cbf6-7fe2012bdf09"
      },
      "execution_count": null,
      "outputs": [
        {
          "output_type": "stream",
          "name": "stdout",
          "text": [
            "('Albi', 'Ummid', 'Tanvir')\n"
          ]
        }
      ]
    },
    {
      "cell_type": "code",
      "source": [
        "# Get tupple from range\n",
        "print(tuple(i for i in range(100+1)))"
      ],
      "metadata": {
        "colab": {
          "base_uri": "https://localhost:8080/"
        },
        "id": "oMrfG1tSuSor",
        "outputId": "11e3bede-9806-4ea1-9062-d3609b4d7f20"
      },
      "execution_count": null,
      "outputs": [
        {
          "output_type": "stream",
          "name": "stdout",
          "text": [
            "(0, 1, 2, 3, 4, 5, 6, 7, 8, 9, 10, 11, 12, 13, 14, 15, 16, 17, 18, 19, 20, 21, 22, 23, 24, 25, 26, 27, 28, 29, 30, 31, 32, 33, 34, 35, 36, 37, 38, 39, 40, 41, 42, 43, 44, 45, 46, 47, 48, 49, 50, 51, 52, 53, 54, 55, 56, 57, 58, 59, 60, 61, 62, 63, 64, 65, 66, 67, 68, 69, 70, 71, 72, 73, 74, 75, 76, 77, 78, 79, 80, 81, 82, 83, 84, 85, 86, 87, 88, 89, 90, 91, 92, 93, 94, 95, 96, 97, 98, 99, 100)\n"
          ]
        }
      ]
    },
    {
      "cell_type": "code",
      "source": [
        "# Access tupple items\n",
        "thisTuple = (\"Apple\",\"Banana\",\"Cherry\")\n",
        "print(thisTuple[0],thisTuple[2],thisTuple[-2])"
      ],
      "metadata": {
        "colab": {
          "base_uri": "https://localhost:8080/"
        },
        "id": "sk7nUnzqxKEU",
        "outputId": "f7d07b95-2c66-487f-b73d-be1f00764433"
      },
      "execution_count": null,
      "outputs": [
        {
          "output_type": "stream",
          "name": "stdout",
          "text": [
            "Apple Cherry Banana\n"
          ]
        }
      ]
    },
    {
      "cell_type": "code",
      "source": [
        "# Range in tuple\n",
        "thistuple = (\"apple\", \"banana\", \"cherry\", \"orange\", \"kiwi\", \"melon\", \"mango\")\n",
        "print(thistuple[2:5],'\\n',thistuple[:5],'\\n',thistuple[2:],'\\n',thistuple[:])"
      ],
      "metadata": {
        "colab": {
          "base_uri": "https://localhost:8080/"
        },
        "id": "NR7IMqlkzjys",
        "outputId": "91d664d5-21dd-4bca-dc0e-73cbe7bb5a7d"
      },
      "execution_count": null,
      "outputs": [
        {
          "output_type": "stream",
          "name": "stdout",
          "text": [
            "('cherry', 'orange', 'kiwi') \n",
            " ('apple', 'banana', 'cherry', 'orange', 'kiwi') \n",
            " ('cherry', 'orange', 'kiwi', 'melon', 'mango') \n",
            " ('apple', 'banana', 'cherry', 'orange', 'kiwi', 'melon', 'mango')\n"
          ]
        }
      ]
    },
    {
      "cell_type": "code",
      "source": [
        "thistuple = (\"apple\", \"banana\", \"cherry\", \"orange\", \"kiwi\", \"melon\", \"mango\")\n",
        "if \"Jackfruit\" in thistuple :\n",
        "  print(\"Jack found\")\n",
        "else:\n",
        "    print(\"Jack missing\")"
      ],
      "metadata": {
        "id": "P98zfTt20aLE",
        "outputId": "56371328-5722-4cd1-b724-a1e74aa532e1",
        "colab": {
          "base_uri": "https://localhost:8080/"
        }
      },
      "execution_count": null,
      "outputs": [
        {
          "output_type": "stream",
          "name": "stdout",
          "text": [
            "Jack missing\n"
          ]
        }
      ]
    },
    {
      "cell_type": "code",
      "source": [
        "# Update tuple\n",
        "# By defualt tuple cannot be changed\n",
        "myTuple  = (\"apple\", \"banana\", \"cherry\", \"orange\", \"kiwi\", \"melon\", \"mango\")\n",
        "myTupleList = list(myTuple)\n",
        "\n",
        "myTupleList[0] = \"Jackfruit\"\n",
        "myTuple = tuple(myTupleList)\n",
        "print(myTuple)\n",
        "\n",
        "# Remove\n",
        "\n",
        "myTupleList.remove(\"banana\")\n",
        "myTuple = tuple(myTupleList)\n",
        "print(myTuple)\n",
        "\n",
        "\n",
        "# Add\n",
        "myTupleList.append(\"Pineapple\")\n",
        "myTuple = tuple(myTupleList)\n",
        "print(myTuple)"
      ],
      "metadata": {
        "colab": {
          "base_uri": "https://localhost:8080/"
        },
        "id": "XUzR_FgA1z0v",
        "outputId": "07569222-f972-4d7c-a5dc-5db31e139ee4"
      },
      "execution_count": 28,
      "outputs": [
        {
          "output_type": "stream",
          "name": "stdout",
          "text": [
            "('Jackfruit', 'banana', 'cherry', 'orange', 'kiwi', 'melon', 'mango')\n",
            "('Jackfruit', 'cherry', 'orange', 'kiwi', 'melon', 'mango')\n",
            "('Jackfruit', 'cherry', 'orange', 'kiwi', 'melon', 'mango', 'Pineapple')\n"
          ]
        }
      ]
    },
    {
      "cell_type": "code",
      "source": [
        "# Unpack tupple / extract and present each item as a variable name\n",
        "fruits = (\"Apple\",\"Orange\",\"Banana\")\n",
        "(red,orange,yellow) = fruits\n",
        "print(red,orange,yellow)\n",
        "\n",
        "# useof asterisk\n",
        "name = (\"Albi\",\"Ummid\",\"Tanvir\",\"Hassan\",\"Tonoy\")\n",
        "(firstName,middleName,*lastNameAsList) = name\n",
        "print(f\"first name: {firstName}\\n\")\n",
        "print(f\"middle name: {middleName}\\n\")\n",
        "print(f\"last name list: {lastNameAsList}\\n\")\n",
        "\n"
      ],
      "metadata": {
        "colab": {
          "base_uri": "https://localhost:8080/"
        },
        "id": "caMv_gx33ncQ",
        "outputId": "437efd15-0405-4626-e81a-b21e333e683b"
      },
      "execution_count": 36,
      "outputs": [
        {
          "output_type": "stream",
          "name": "stdout",
          "text": [
            "Apple Orange Banana\n",
            "first name: Albi\n",
            "\n",
            "middle name: Ummid\n",
            "\n",
            "last name list: ['Tanvir', 'Hassan', 'Tonoy']\n",
            "\n"
          ]
        }
      ]
    },
    {
      "cell_type": "code",
      "source": [],
      "metadata": {
        "id": "c7HDsgeo3wlb"
      },
      "execution_count": null,
      "outputs": []
    }
  ]
}