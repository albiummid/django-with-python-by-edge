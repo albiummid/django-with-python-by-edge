{
  "nbformat": 4,
  "nbformat_minor": 0,
  "metadata": {
    "colab": {
      "provenance": [],
      "authorship_tag": "ABX9TyNHKsELUiooo7rU6uSITxKL",
      "include_colab_link": true
    },
    "kernelspec": {
      "name": "python3",
      "display_name": "Python 3"
    },
    "language_info": {
      "name": "python"
    }
  },
  "cells": [
    {
      "cell_type": "markdown",
      "metadata": {
        "id": "view-in-github",
        "colab_type": "text"
      },
      "source": [
        "<a href=\"https://colab.research.google.com/github/albiummid/django-with-python-by-edge/blob/main/16_dec_practiceR2B4.ipynb\" target=\"_parent\"><img src=\"https://colab.research.google.com/assets/colab-badge.svg\" alt=\"Open In Colab\"/></a>"
      ]
    },
    {
      "cell_type": "code",
      "execution_count": 1,
      "metadata": {
        "colab": {
          "base_uri": "https://localhost:8080/"
        },
        "id": "7afDD0fNhyVX",
        "outputId": "f523f9db-5375-4111-d2fa-b02b04e712d1"
      },
      "outputs": [
        {
          "output_type": "stream",
          "name": "stdout",
          "text": [
            "hello\n"
          ]
        }
      ],
      "source": [
        "print(\"hello\")"
      ]
    },
    {
      "cell_type": "code",
      "source": [],
      "metadata": {
        "id": "B1QWxb-ji0sE"
      },
      "execution_count": null,
      "outputs": []
    },
    {
      "cell_type": "code",
      "source": [],
      "metadata": {
        "id": "foSvsnoYi2h6"
      },
      "execution_count": null,
      "outputs": []
    },
    {
      "cell_type": "code",
      "source": [
        "x= 5\n",
        "y='john'\n",
        "print(x)\n",
        "print(y)"
      ],
      "metadata": {
        "colab": {
          "base_uri": "https://localhost:8080/"
        },
        "id": "WIGOyBlAi5K4",
        "outputId": "fc236771-6997-4ee0-9696-93406bdb7bf5"
      },
      "execution_count": 2,
      "outputs": [
        {
          "output_type": "stream",
          "name": "stdout",
          "text": [
            "5\n",
            "john\n"
          ]
        }
      ]
    },
    {
      "cell_type": "code",
      "source": [],
      "metadata": {
        "id": "ccsdZkmfoU_o"
      },
      "execution_count": null,
      "outputs": []
    },
    {
      "cell_type": "code",
      "source": [
        "x = str(3) # this is string\n",
        "y = int(3) # this is integer\n",
        "z = float(3) # this is float\n",
        "print(type(x),type(y),type(z))"
      ],
      "metadata": {
        "colab": {
          "base_uri": "https://localhost:8080/"
        },
        "id": "oCbDglQJjHNd",
        "outputId": "400aa3ed-e566-4e27-f659-2709f96265ed"
      },
      "execution_count": 3,
      "outputs": [
        {
          "output_type": "stream",
          "name": "stdout",
          "text": [
            "<class 'str'> <class 'int'> <class 'float'>\n"
          ]
        }
      ]
    },
    {
      "cell_type": "code",
      "source": [
        "# Cammel Case\n",
        "firstName = input('Your first name :')\n",
        "lastName = input(\"Your last name :\")\n",
        "print(f'Your full name is {firstName} {lastName}')\n",
        "\n"
      ],
      "metadata": {
        "colab": {
          "base_uri": "https://localhost:8080/"
        },
        "id": "qL1CSiFdjlU5",
        "outputId": "cf1b572e-b59c-4be5-ede0-8ef3049e87c7"
      },
      "execution_count": 7,
      "outputs": [
        {
          "output_type": "stream",
          "name": "stdout",
          "text": [
            "Your first name :h\n",
            "Your last name :f'\n",
            "Your full name is h f'\n"
          ]
        }
      ]
    },
    {
      "cell_type": "code",
      "source": [
        "# Getting sizes of data types\n",
        "import sys\n",
        "x,y,z = 1,str(2),b'3'\n",
        "print(f'value:{x} , type:{type(x)} , size: {sys.getsizeof(x)}')\n",
        "print(f'value:{x} , type:{type(x)} , size: {sys.getsizeof(x)}')\n",
        "print(f'value:{x} , type:{type(x)} , size: {sys.getsizeof(x)}')\n",
        "# print(y,sys.getsizeof(y))\n",
        "# print(y,sys.getsizeof(y))\n",
        "# print(z,sys.getsizeof(z))"
      ],
      "metadata": {
        "colab": {
          "base_uri": "https://localhost:8080/"
        },
        "id": "Va58lByLt3dY",
        "outputId": "d46bccf6-4f52-4cd9-d656-029ebf4fee83"
      },
      "execution_count": 8,
      "outputs": [
        {
          "output_type": "stream",
          "name": "stdout",
          "text": [
            "1 28\n",
            "2 50\n",
            "b'3' 34\n"
          ]
        }
      ]
    },
    {
      "cell_type": "code",
      "source": [
        "#Data types\n",
        "dt_string = 'Hello world'\n",
        "dt_int = 20\n",
        "dt_float = 20.5\n",
        "dt_complex = 5j\n",
        "dt_list = ['apple','banana',True,20,55.5]\n",
        "dt_tupple = (\"apple\",'banana','cherry')\n",
        "dt_range = range(100)\n",
        "dt_dict = {\"name\":\"albi\",\"email\":\"albiummid@gmail.com\",\"phone\":\"+8801755977522\"}\n",
        "dt_set = {'apple','banana','cherry'}\n",
        "dt_frozenSet = (dt_set)\n",
        "dt_bool = True\n",
        "dt_bytes = b\"Hello\"\n",
        "dt_byteArray = bytearray(5)\n",
        "dt_memoryView = memoryview(bytes(5))\n",
        "dt_NoneType = None\n",
        "\n",
        "\n",
        "dataTypes  = [dt_string,dt_int,\n",
        "                   dt_float,dt_complex,\n",
        "                   dt_list,dt_tupple,\n",
        "                   dt_range,dt_dict,\n",
        "                   dt_set,dt_frozenSet,\n",
        "                   dt_bool, dt_bytes,\n",
        "                   dt_byteArray,dt_memoryView,\n",
        "                   dt_NoneType\n",
        "                   ];\n",
        "\n",
        "for dataTypeValue in dataTypes:\n",
        "  print(f'Type:{type(dataTypeValue)} \\nValue: {dataTypeValue}\\n\\n')\n",
        "\n"
      ],
      "metadata": {
        "colab": {
          "base_uri": "https://localhost:8080/"
        },
        "id": "SYkFGcv7oXYY",
        "outputId": "752497f6-6361-428b-f444-2973ce9d67af"
      },
      "execution_count": 6,
      "outputs": [
        {
          "output_type": "stream",
          "name": "stdout",
          "text": [
            "Type:<class 'str'> \n",
            "Value: Hello world\n",
            "\n",
            "\n",
            "Type:<class 'int'> \n",
            "Value: 20\n",
            "\n",
            "\n",
            "Type:<class 'float'> \n",
            "Value: 20.5\n",
            "\n",
            "\n",
            "Type:<class 'complex'> \n",
            "Value: 5j\n",
            "\n",
            "\n",
            "Type:<class 'list'> \n",
            "Value: ['apple', 'banana', True, 20, 55.5]\n",
            "\n",
            "\n",
            "Type:<class 'tuple'> \n",
            "Value: ('apple', 'banana', 'cherry')\n",
            "\n",
            "\n",
            "Type:<class 'range'> \n",
            "Value: range(0, 100)\n",
            "\n",
            "\n",
            "Type:<class 'dict'> \n",
            "Value: {'name': 'albi', 'email': 'albiummid@gmail.com', 'phone': '+8801755977522f'}\n",
            "\n",
            "\n",
            "Type:<class 'set'> \n",
            "Value: {'cherry', 'banana', 'apple'}\n",
            "\n",
            "\n",
            "Type:<class 'set'> \n",
            "Value: {'cherry', 'banana', 'apple'}\n",
            "\n",
            "\n",
            "Type:<class 'bool'> \n",
            "Value: True\n",
            "\n",
            "\n",
            "Type:<class 'bytes'> \n",
            "Value: b'Hello'\n",
            "\n",
            "\n",
            "Type:<class 'bytearray'> \n",
            "Value: bytearray(b'\\x00\\x00\\x00\\x00\\x00')\n",
            "\n",
            "\n",
            "Type:<class 'memoryview'> \n",
            "Value: <memory at 0x789fcf124100>\n",
            "\n",
            "\n",
            "Type:<class 'NoneType'> \n",
            "Value: None\n",
            "\n",
            "\n"
          ]
        }
      ]
    }
  ]
}