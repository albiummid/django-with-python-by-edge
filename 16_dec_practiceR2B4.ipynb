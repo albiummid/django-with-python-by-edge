{
  "nbformat": 4,
  "nbformat_minor": 0,
  "metadata": {
    "colab": {
      "provenance": [],
      "authorship_tag": "ABX9TyO5FPtuAe8V6vyAj+EaQ3as",
      "include_colab_link": true
    },
    "kernelspec": {
      "name": "python3",
      "display_name": "Python 3"
    },
    "language_info": {
      "name": "python"
    }
  },
  "cells": [
    {
      "cell_type": "markdown",
      "metadata": {
        "id": "view-in-github",
        "colab_type": "text"
      },
      "source": [
        "<a href=\"https://colab.research.google.com/github/albiummid/django-with-python-by-edge/blob/main/16_dec_practiceR2B4.ipynb\" target=\"_parent\"><img src=\"https://colab.research.google.com/assets/colab-badge.svg\" alt=\"Open In Colab\"/></a>"
      ]
    },
    {
      "cell_type": "code",
      "execution_count": 1,
      "metadata": {
        "colab": {
          "base_uri": "https://localhost:8080/"
        },
        "id": "7afDD0fNhyVX",
        "outputId": "f523f9db-5375-4111-d2fa-b02b04e712d1"
      },
      "outputs": [
        {
          "output_type": "stream",
          "name": "stdout",
          "text": [
            "hello\n"
          ]
        }
      ],
      "source": [
        "print(\"hello\")"
      ]
    },
    {
      "cell_type": "code",
      "source": [],
      "metadata": {
        "id": "B1QWxb-ji0sE"
      },
      "execution_count": null,
      "outputs": []
    },
    {
      "cell_type": "code",
      "source": [],
      "metadata": {
        "id": "foSvsnoYi2h6"
      },
      "execution_count": null,
      "outputs": []
    },
    {
      "cell_type": "code",
      "source": [
        "x= 5\n",
        "y='john'\n",
        "print(x)\n",
        "print(y)"
      ],
      "metadata": {
        "colab": {
          "base_uri": "https://localhost:8080/"
        },
        "id": "WIGOyBlAi5K4",
        "outputId": "fc236771-6997-4ee0-9696-93406bdb7bf5"
      },
      "execution_count": 2,
      "outputs": [
        {
          "output_type": "stream",
          "name": "stdout",
          "text": [
            "5\n",
            "john\n"
          ]
        }
      ]
    },
    {
      "cell_type": "code",
      "source": [],
      "metadata": {
        "id": "ccsdZkmfoU_o"
      },
      "execution_count": null,
      "outputs": []
    },
    {
      "cell_type": "code",
      "source": [
        "x = str(3) # this is string\n",
        "y = int(3) # this is integer\n",
        "z = float(3) # this is float\n",
        "print(type(x),type(y),type(z))"
      ],
      "metadata": {
        "colab": {
          "base_uri": "https://localhost:8080/"
        },
        "id": "oCbDglQJjHNd",
        "outputId": "400aa3ed-e566-4e27-f659-2709f96265ed"
      },
      "execution_count": 3,
      "outputs": [
        {
          "output_type": "stream",
          "name": "stdout",
          "text": [
            "<class 'str'> <class 'int'> <class 'float'>\n"
          ]
        }
      ]
    },
    {
      "cell_type": "code",
      "source": [
        "# Cammel Case\n",
        "firstName = input('Your first name :')\n",
        "lastName = input(\"Your last name :\")\n",
        "print(f'Your full name is {firstName} {lastName}')\n",
        "\n"
      ],
      "metadata": {
        "colab": {
          "base_uri": "https://localhost:8080/"
        },
        "id": "qL1CSiFdjlU5",
        "outputId": "cf1b572e-b59c-4be5-ede0-8ef3049e87c7"
      },
      "execution_count": 7,
      "outputs": [
        {
          "output_type": "stream",
          "name": "stdout",
          "text": [
            "Your first name :h\n",
            "Your last name :f'\n",
            "Your full name is h f'\n"
          ]
        }
      ]
    },
    {
      "cell_type": "code",
      "source": [
        "# Getting sizes of data types\n",
        "import sys\n",
        "x,y,z = 1,str(2),b'3'\n",
        "print(f'value:{x} , type:{type(x)} , size: {sys.getsizeof(x)}')\n",
        "print(f'value:{y} , type:{type(y)} , size: {sys.getsizeof(y)}')\n",
        "print(f'value:{z} , type:{type(z)} , size: {sys.getsizeof(z)}')\n",
        "# print(x,sys.getsizeof(x))\n",
        "# print(y,sys.getsizeof(y))\n",
        "# print(z,sys.getsizeof(z))"
      ],
      "metadata": {
        "colab": {
          "base_uri": "https://localhost:8080/"
        },
        "id": "Va58lByLt3dY",
        "outputId": "452edc5d-a53a-4125-ade5-976ad2aa71ce"
      },
      "execution_count": 10,
      "outputs": [
        {
          "output_type": "stream",
          "name": "stdout",
          "text": [
            "value:1 , type:<class 'int'> , size: 28\n",
            "value:2 , type:<class 'str'> , size: 50\n",
            "value:b'3' , type:<class 'bytes'> , size: 34\n"
          ]
        }
      ]
    },
    {
      "cell_type": "code",
      "source": [
        "# Assign same value in multiple variable\n",
        "\n",
        "x = y = z = \"univeral\"\n",
        "print(x,y,z);"
      ],
      "metadata": {
        "colab": {
          "base_uri": "https://localhost:8080/"
        },
        "id": "A3lqmTyexXB6",
        "outputId": "d5b9cc39-31d5-414a-da3b-59fe00add208"
      },
      "execution_count": 11,
      "outputs": [
        {
          "output_type": "stream",
          "name": "stdout",
          "text": [
            "univeral univeral univeral\n"
          ]
        }
      ]
    },
    {
      "cell_type": "code",
      "source": [
        "# f-string-literal\n",
        "name = 'Albi Ummid Tanvir'\n",
        "age  = 24\n",
        "\n",
        "sentence1 = f\"My name is {name}. I am {age} years old.\"\n",
        "print(sentence1)\n",
        "# text-format\n",
        "sentence2 = \"My name is {} . I am {} year old\"\n",
        "print(sentence2.format(name,age))\n",
        "\n"
      ],
      "metadata": {
        "colab": {
          "base_uri": "https://localhost:8080/"
        },
        "id": "uen6evmm0YT9",
        "outputId": "971b58b3-331e-4dbc-b05d-88e9965d6d79"
      },
      "execution_count": 13,
      "outputs": [
        {
          "output_type": "stream",
          "name": "stdout",
          "text": [
            "My name is Albi Ummid Tanvir. I am 24 years old.\n",
            "My name is Albi Ummid Tanvir . I am 24 year old\n"
          ]
        }
      ]
    },
    {
      "cell_type": "code",
      "source": [
        "# Scope - global/local\n",
        "\n",
        "x = 'awesome'\n",
        "\n",
        "def myFunc():\n",
        "  global y\n",
        "  y = 'fantastic'\n",
        "\n",
        "  print(\"Python is \"+x) #using local x\n",
        "\n",
        "myFunc()\n",
        "\n",
        "\n",
        "print(\"Python is \"+y) #using global y\n",
        "\n"
      ],
      "metadata": {
        "colab": {
          "base_uri": "https://localhost:8080/"
        },
        "id": "Fp_dAF-W8asy",
        "outputId": "6636c297-001e-467f-9750-a9ab62ea2612"
      },
      "execution_count": 15,
      "outputs": [
        {
          "output_type": "stream",
          "name": "stdout",
          "text": [
            "Python is awesome\n",
            "Python is fantastic\n"
          ]
        }
      ]
    },
    {
      "cell_type": "code",
      "source": [
        "#Data types\n",
        "dt_string = 'Hello world'\n",
        "dt_int = 20\n",
        "dt_float = 20.5\n",
        "dt_complex = 5j\n",
        "dt_list = ['apple','banana',True,20,55.5]\n",
        "dt_tupple = (\"apple\",'banana','cherry')\n",
        "dt_range = range(100)\n",
        "dt_dict = {\"name\":\"albi\",\"email\":\"albiummid@gmail.com\",\"phone\":\"+8801755977522\"}\n",
        "dt_set = {'apple','banana','cherry'}\n",
        "dt_frozenSet = (dt_set)\n",
        "dt_bool = True\n",
        "dt_bytes = b\"Hello\"\n",
        "dt_byteArray = bytearray(5)\n",
        "dt_memoryView = memoryview(bytes(5))\n",
        "dt_NoneType = None\n",
        "\n",
        "\n",
        "dataTypes  = [dt_string,dt_int,\n",
        "                   dt_float,dt_complex,\n",
        "                   dt_list,dt_tupple,\n",
        "                   dt_range,dt_dict,\n",
        "                   dt_set,dt_frozenSet,\n",
        "                   dt_bool, dt_bytes,\n",
        "                   dt_byteArray,dt_memoryView,\n",
        "                   dt_NoneType\n",
        "                   ];\n",
        "\n",
        "for dataTypeValue in dataTypes:\n",
        "  print(f'Type:{type(dataTypeValue)} \\nValue: {dataTypeValue}\\n\\n')\n",
        "\n"
      ],
      "metadata": {
        "colab": {
          "base_uri": "https://localhost:8080/"
        },
        "id": "SYkFGcv7oXYY",
        "outputId": "752497f6-6361-428b-f444-2973ce9d67af"
      },
      "execution_count": 6,
      "outputs": [
        {
          "output_type": "stream",
          "name": "stdout",
          "text": [
            "Type:<class 'str'> \n",
            "Value: Hello world\n",
            "\n",
            "\n",
            "Type:<class 'int'> \n",
            "Value: 20\n",
            "\n",
            "\n",
            "Type:<class 'float'> \n",
            "Value: 20.5\n",
            "\n",
            "\n",
            "Type:<class 'complex'> \n",
            "Value: 5j\n",
            "\n",
            "\n",
            "Type:<class 'list'> \n",
            "Value: ['apple', 'banana', True, 20, 55.5]\n",
            "\n",
            "\n",
            "Type:<class 'tuple'> \n",
            "Value: ('apple', 'banana', 'cherry')\n",
            "\n",
            "\n",
            "Type:<class 'range'> \n",
            "Value: range(0, 100)\n",
            "\n",
            "\n",
            "Type:<class 'dict'> \n",
            "Value: {'name': 'albi', 'email': 'albiummid@gmail.com', 'phone': '+8801755977522f'}\n",
            "\n",
            "\n",
            "Type:<class 'set'> \n",
            "Value: {'cherry', 'banana', 'apple'}\n",
            "\n",
            "\n",
            "Type:<class 'set'> \n",
            "Value: {'cherry', 'banana', 'apple'}\n",
            "\n",
            "\n",
            "Type:<class 'bool'> \n",
            "Value: True\n",
            "\n",
            "\n",
            "Type:<class 'bytes'> \n",
            "Value: b'Hello'\n",
            "\n",
            "\n",
            "Type:<class 'bytearray'> \n",
            "Value: bytearray(b'\\x00\\x00\\x00\\x00\\x00')\n",
            "\n",
            "\n",
            "Type:<class 'memoryview'> \n",
            "Value: <memory at 0x789fcf124100>\n",
            "\n",
            "\n",
            "Type:<class 'NoneType'> \n",
            "Value: None\n",
            "\n",
            "\n"
          ]
        }
      ]
    },
    {
      "cell_type": "code",
      "source": [
        "# Checking ASCII charecters and ASCII values in a list\n",
        "[str(c)+\"=\"+chr(c) for c in range(ord('a'),ord('z')+1) if c%2 == 0]\n"
      ],
      "metadata": {
        "colab": {
          "base_uri": "https://localhost:8080/"
        },
        "id": "itvqjYUzC0GN",
        "outputId": "e42421eb-8f95-4ffa-e86e-095d702c4e6c"
      },
      "execution_count": 18,
      "outputs": [
        {
          "output_type": "execute_result",
          "data": {
            "text/plain": [
              "['98=b',\n",
              " '100=d',\n",
              " '102=f',\n",
              " '104=h',\n",
              " '106=j',\n",
              " '108=l',\n",
              " '110=n',\n",
              " '112=p',\n",
              " '114=r',\n",
              " '116=t',\n",
              " '118=v',\n",
              " '120=x',\n",
              " '122=z']"
            ]
          },
          "metadata": {},
          "execution_count": 18
        }
      ]
    },
    {
      "cell_type": "code",
      "source": [
        "\n",
        "# Byte is memory efficient than string\n",
        "\n",
        "word_as_bytes = bytes(\"cafe\",\"utf-8\")\n",
        "word_as_string = \"cafe\"\n",
        "\n",
        "print(f\"Value: {word_as_string} , Type: {type(word_as_string)}, Size: {sys.getsizeof(word_as_string)}\")\n",
        "print(f\"Value: {word_as_bytes} , Type: {type(word_as_bytes)}, Size: {sys.getsizeof(word_as_bytes)}\")"
      ],
      "metadata": {
        "colab": {
          "base_uri": "https://localhost:8080/"
        },
        "id": "kkcgDxCUE_tv",
        "outputId": "74c7c616-769d-4527-f028-a81ca01addf2"
      },
      "execution_count": 21,
      "outputs": [
        {
          "output_type": "stream",
          "name": "stdout",
          "text": [
            "Value: cafe , Type: <class 'str'>, Size: 53\n",
            "Value: b'cafe' , Type: <class 'bytes'>, Size: 37\n"
          ]
        }
      ]
    },
    {
      "cell_type": "code",
      "source": [
        "# How to comvert bytes to a string"
      ],
      "metadata": {
        "id": "FFr4k3hMEFiC"
      },
      "execution_count": null,
      "outputs": []
    }
  ]
}