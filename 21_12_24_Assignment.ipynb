{
  "nbformat": 4,
  "nbformat_minor": 0,
  "metadata": {
    "colab": {
      "provenance": [],
      "authorship_tag": "ABX9TyOmARHr5EK9/aC55qzfKmJJ",
      "include_colab_link": true
    },
    "kernelspec": {
      "name": "python3",
      "display_name": "Python 3"
    },
    "language_info": {
      "name": "python"
    }
  },
  "cells": [
    {
      "cell_type": "markdown",
      "metadata": {
        "id": "view-in-github",
        "colab_type": "text"
      },
      "source": [
        "<a href=\"https://colab.research.google.com/github/albiummid/django-with-python-by-edge/blob/main/21_12_24_Assignment.ipynb\" target=\"_parent\"><img src=\"https://colab.research.google.com/assets/colab-badge.svg\" alt=\"Open In Colab\"/></a>"
      ]
    },
    {
      "cell_type": "code",
      "execution_count": 4,
      "metadata": {
        "colab": {
          "base_uri": "https://localhost:8080/",
          "height": 0
        },
        "id": "_GmeY6XKZVtr",
        "outputId": "b0c2f784-ffa8-4061-ddcb-bcd81ed0f6c6"
      },
      "outputs": [
        {
          "output_type": "stream",
          "name": "stdout",
          "text": [
            "1 3 5\n"
          ]
        }
      ],
      "source": [
        "# Python Casting\n",
        "\n",
        "# Integer types\n",
        "x = int(1)\n",
        "y = int(3.4)\n",
        "# z = int(\"5.09\") # float is not converting to integer\n",
        "z = int(\"5\")\n",
        "print(x,y,z)"
      ]
    },
    {
      "cell_type": "code",
      "source": [
        "# Float\n",
        "x = float(1)\n",
        "y = float(2.8)\n",
        "z = float(\"5\")\n",
        "w = float(\"5.08\")\n",
        "print(x,y,z,w)"
      ],
      "metadata": {
        "colab": {
          "base_uri": "https://localhost:8080/",
          "height": 0
        },
        "id": "vzmjaHRNaois",
        "outputId": "6f8fc74e-14db-4b75-d9ff-3a0c14f298bd"
      },
      "execution_count": 5,
      "outputs": [
        {
          "output_type": "stream",
          "name": "stdout",
          "text": [
            "1.0 2.8 5.0 5.08\n"
          ]
        }
      ]
    },
    {
      "cell_type": "code",
      "source": [
        "# String\n",
        "x = str(\"This is a string\\n\")\n",
        "y = str(\"5.789\")\n",
        "z = str(2)\n",
        "w = str(4.5)\n",
        "print(x,y,z,w)"
      ],
      "metadata": {
        "colab": {
          "base_uri": "https://localhost:8080/",
          "height": 0
        },
        "id": "rMlRXN15a2y-",
        "outputId": "e0be4485-723e-470a-8e0c-ab9fd28a1554"
      },
      "execution_count": 7,
      "outputs": [
        {
          "output_type": "stream",
          "name": "stdout",
          "text": [
            "This is a string\n",
            " 5.789 2 4.5\n"
          ]
        }
      ]
    },
    {
      "cell_type": "code",
      "source": [
        "# Python string\n",
        "\n",
        "\n",
        "# Qoutes inside qoute\n",
        "print(\"It's a rainy day\")\n",
        "print(\"His name is John\")\n",
        "print(\"He is calling me johny!\")"
      ],
      "metadata": {
        "colab": {
          "base_uri": "https://localhost:8080/",
          "height": 0
        },
        "id": "8bP4rxQubZ4d",
        "outputId": "fd2c3735-8e39-4023-902b-db8fa49c2795"
      },
      "execution_count": 8,
      "outputs": [
        {
          "output_type": "stream",
          "name": "stdout",
          "text": [
            "It's a rainy day\n",
            "His name is John\n",
            "He is calling me johny!\n"
          ]
        }
      ]
    },
    {
      "cell_type": "code",
      "source": [
        "# Assigning string to a value\n",
        "a = \"Hello  world\"\n",
        "print(a)"
      ],
      "metadata": {
        "colab": {
          "base_uri": "https://localhost:8080/",
          "height": 0
        },
        "id": "3mOQEJD2bwYP",
        "outputId": "0dbf351d-11ae-4d68-a625-995c752cf2e6"
      },
      "execution_count": 9,
      "outputs": [
        {
          "output_type": "stream",
          "name": "stdout",
          "text": [
            "Hello  world\n"
          ]
        }
      ]
    },
    {
      "cell_type": "code",
      "source": [
        "# Multiline string\n",
        "a = \"\"\"\n",
        "This is a double-qoute multiline\n",
        "String which showing the pyhon multiline\n",
        "string writtingbehaviour\n",
        "\"\"\"\n",
        "\n",
        "b = '''\n",
        "This is a single-qoute multiline\n",
        "String which showing the pyhon multiline\n",
        "string writtingbehaviour\n",
        "'''\n",
        "\n",
        "print(a,b)"
      ],
      "metadata": {
        "colab": {
          "base_uri": "https://localhost:8080/",
          "height": 0
        },
        "id": "P3ofqx5cb2Vg",
        "outputId": "cd044968-7620-4b3f-9c41-40ed0718f1b3"
      },
      "execution_count": 10,
      "outputs": [
        {
          "output_type": "stream",
          "name": "stdout",
          "text": [
            "\n",
            "This is a double-qoute multiline\n",
            "String which showing the pyhon multiline\n",
            "string writtingbehaviour\n",
            " \n",
            "This is a single-qoute multiline\n",
            "String which showing the pyhon multiline\n",
            "string writtingbehaviour\n",
            "\n"
          ]
        }
      ]
    },
    {
      "cell_type": "code",
      "source": [
        "# String as ans Array\n",
        "a = \"Hello world\"\n",
        "print(a[1])"
      ],
      "metadata": {
        "colab": {
          "base_uri": "https://localhost:8080/",
          "height": 0
        },
        "id": "3GpANp8qc3Kr",
        "outputId": "dad5346f-a4a4-4901-c17f-c0e78979a95e"
      },
      "execution_count": 12,
      "outputs": [
        {
          "output_type": "stream",
          "name": "stdout",
          "text": [
            "e\n"
          ]
        }
      ]
    },
    {
      "cell_type": "code",
      "source": [
        "# Looping through string\n",
        "sentence = \"My name is Albi Ummid Tanvir\"\n",
        "for letter in sentence:\n",
        "  print(letter)\n"
      ],
      "metadata": {
        "colab": {
          "base_uri": "https://localhost:8080/",
          "height": 0
        },
        "id": "IrrHhzgDdBYz",
        "outputId": "c3612a7b-c9b2-46af-bb45-f90551cb1ed3"
      },
      "execution_count": 13,
      "outputs": [
        {
          "output_type": "stream",
          "name": "stdout",
          "text": [
            "M\n",
            "y\n",
            " \n",
            "n\n",
            "a\n",
            "m\n",
            "e\n",
            " \n",
            "i\n",
            "s\n",
            " \n",
            "A\n",
            "l\n",
            "b\n",
            "i\n",
            " \n",
            "U\n",
            "m\n",
            "m\n",
            "i\n",
            "d\n",
            " \n",
            "T\n",
            "a\n",
            "n\n",
            "v\n",
            "i\n",
            "r\n"
          ]
        }
      ]
    },
    {
      "cell_type": "code",
      "source": [
        "# String Length\n",
        "a_string = \"Hello, Santosh\"\n",
        "print(len(a))"
      ],
      "metadata": {
        "colab": {
          "base_uri": "https://localhost:8080/",
          "height": 0
        },
        "id": "bMxlJ6mQdVNN",
        "outputId": "384aaa05-c18a-4c76-e0a1-b094aac436e4"
      },
      "execution_count": 14,
      "outputs": [
        {
          "output_type": "stream",
          "name": "stdout",
          "text": [
            "11\n"
          ]
        }
      ]
    },
    {
      "cell_type": "code",
      "source": [
        "# Check string\n",
        "txt = \"I am a student of mathematics\"\n",
        "print(\"student\" in txt)\n",
        "\n",
        "if \"mathematics\" in txt:\n",
        "  print(\"Student of Mathematics\")\n",
        "\n",
        "  if \"worker\" not in txt:\n",
        "    print(\"He is not an worker\")"
      ],
      "metadata": {
        "colab": {
          "base_uri": "https://localhost:8080/",
          "height": 0
        },
        "id": "-tSIUPoJdlSW",
        "outputId": "bf982185-2e06-4eab-a7a2-138407778d8b"
      },
      "execution_count": 16,
      "outputs": [
        {
          "output_type": "stream",
          "name": "stdout",
          "text": [
            "True\n",
            "Student of Mathematics\n",
            "He is not an worker\n"
          ]
        }
      ]
    },
    {
      "cell_type": "code",
      "source": [
        "# Slicing String\n",
        "b = \"Hello , world\"\n",
        "\n",
        "print(b[:3])\n",
        "print(b[0:])\n",
        "print(b[0:3])\n",
        "print(b[-5:-2]) #Negetive indexing\n",
        "\n",
        "txt = \"Hello World\"\n",
        "print(txt[2:5])"
      ],
      "metadata": {
        "colab": {
          "base_uri": "https://localhost:8080/",
          "height": 0
        },
        "id": "HC_GcGbGe1Jh",
        "outputId": "db97c9b6-16f9-482d-a5f6-f5db0c0f2bcc"
      },
      "execution_count": 21,
      "outputs": [
        {
          "output_type": "stream",
          "name": "stdout",
          "text": [
            "Hel\n",
            "Hello , world\n",
            "Hel\n",
            "wor\n",
            "llo\n"
          ]
        }
      ]
    },
    {
      "cell_type": "code",
      "source": [
        "# Modify string\n",
        "a = \"Hello, world\"\n",
        "# uppercase\n",
        "print(a.upper())\n",
        "# lowercase\n",
        "print(a.lower())\n",
        "\n",
        "# remove whitespace\n",
        "print(a.strip())\n",
        "\n",
        "# Replacing string\n",
        "print(a.replace(\"H\",\"M\"))\n",
        "\n",
        "\n",
        "# split string\n",
        "print(a.split(\",\"))"
      ],
      "metadata": {
        "colab": {
          "base_uri": "https://localhost:8080/",
          "height": 0
        },
        "id": "BoyhOxsKgSOI",
        "outputId": "af273029-fb29-4b79-fb3e-91b815b9ae03"
      },
      "execution_count": 22,
      "outputs": [
        {
          "output_type": "stream",
          "name": "stdout",
          "text": [
            "HELLO, WORLD\n",
            "hello, world\n",
            "Hello, world\n",
            "Mello, world\n",
            "['Hello', ' world']\n"
          ]
        }
      ]
    },
    {
      "cell_type": "code",
      "source": [
        "# String concatenation\n",
        "a = \"Hello\"\n",
        "b = \"World\"\n",
        "print(a+\" \"+b)"
      ],
      "metadata": {
        "colab": {
          "base_uri": "https://localhost:8080/",
          "height": 0
        },
        "id": "vveQeeo3hB1W",
        "outputId": "809d6257-c787-4e03-b899-d8d4ed3560cc"
      },
      "execution_count": 23,
      "outputs": [
        {
          "output_type": "stream",
          "name": "stdout",
          "text": [
            "Hello World\n"
          ]
        }
      ]
    },
    {
      "cell_type": "code",
      "source": [
        "# Python format method\n",
        "age = 45\n",
        "txt = \"My name is john , my age is {}\"\n",
        "txt.format(age)\n",
        "\n",
        "# F-string\n",
        "print(f'My name is john and my age is {age}')"
      ],
      "metadata": {
        "colab": {
          "base_uri": "https://localhost:8080/"
        },
        "id": "oS6fL7urhVNe",
        "outputId": "d0d54764-07a2-47dd-f924-16108726f5e3"
      },
      "execution_count": 25,
      "outputs": [
        {
          "output_type": "stream",
          "name": "stdout",
          "text": [
            "My name is john and my age is 45\n"
          ]
        }
      ]
    },
    {
      "cell_type": "code",
      "source": [
        "# Escape charecters\n",
        "\n",
        "txt = \"We are the so-called \\\"Vikings\\\" from the north.\"\n",
        "print(txt)"
      ],
      "metadata": {
        "colab": {
          "base_uri": "https://localhost:8080/"
        },
        "id": "vTpqI2DZiapn",
        "outputId": "6c09ff0c-66a9-42d5-bf1e-bc46c2c0cc2a"
      },
      "execution_count": 26,
      "outputs": [
        {
          "output_type": "stream",
          "name": "stdout",
          "text": [
            "We are the so-called \"Vikings\" from the north.\n"
          ]
        }
      ]
    },
    {
      "cell_type": "code",
      "source": [
        "# Boolean\n",
        "print(15>8)\n",
        "print(4>9)\n",
        "print(True==False)"
      ],
      "metadata": {
        "colab": {
          "base_uri": "https://localhost:8080/"
        },
        "id": "x1V2hVAgiu5U",
        "outputId": "43ca1db0-5fe2-43cb-f400-359d3850894a"
      },
      "execution_count": 28,
      "outputs": [
        {
          "output_type": "stream",
          "name": "stdout",
          "text": [
            "True\n",
            "False\n",
            "False\n"
          ]
        }
      ]
    },
    {
      "cell_type": "code",
      "source": [
        "bool(\"abc\")\n",
        "bool(123)\n",
        "bool([\"apple\", \"cherry\", \"banana\"])"
      ],
      "metadata": {
        "colab": {
          "base_uri": "https://localhost:8080/"
        },
        "id": "DEVGemtLj2c9",
        "outputId": "3ca5aa22-922c-4be4-9c5e-86925b6ab7be"
      },
      "execution_count": 29,
      "outputs": [
        {
          "output_type": "execute_result",
          "data": {
            "text/plain": [
              "True"
            ]
          },
          "metadata": {},
          "execution_count": 29
        }
      ]
    },
    {
      "cell_type": "code",
      "source": [
        "bool(False)\n",
        "bool(None)\n",
        "bool(0)\n",
        "bool(\"\")\n",
        "bool(())\n",
        "bool([])\n",
        "bool({})"
      ],
      "metadata": {
        "colab": {
          "base_uri": "https://localhost:8080/"
        },
        "id": "YQuzSMEskFJi",
        "outputId": "e94c600b-9163-42ae-ea31-de90eb4e8476"
      },
      "execution_count": 30,
      "outputs": [
        {
          "output_type": "execute_result",
          "data": {
            "text/plain": [
              "False"
            ]
          },
          "metadata": {},
          "execution_count": 30
        }
      ]
    },
    {
      "cell_type": "code",
      "source": [],
      "metadata": {
        "id": "y8nt9RXJkgCZ"
      },
      "execution_count": null,
      "outputs": []
    },
    {
      "cell_type": "code",
      "source": [
        "# Operators\n",
        "x = 5\n",
        "y = 10\n",
        "\n",
        "print(\n",
        "    x+y, #addition\n",
        "    x-y,\n",
        "    x*y,\n",
        "    x/y,\n",
        "    x%y,\n",
        "    x**y,\n",
        "    x//y\n",
        "    )"
      ],
      "metadata": {
        "colab": {
          "base_uri": "https://localhost:8080/"
        },
        "id": "ssZublhukg6f",
        "outputId": "870bc037-eb2f-47cc-a1f9-bcd3098139de"
      },
      "execution_count": 33,
      "outputs": [
        {
          "output_type": "stream",
          "name": "stdout",
          "text": [
            "15 -5 50 0.5 5 9765625 0\n"
          ]
        }
      ]
    },
    {
      "cell_type": "code",
      "source": [
        "#\n",
        "print(\"EDGE \"*2**3)"
      ],
      "metadata": {
        "colab": {
          "base_uri": "https://localhost:8080/"
        },
        "id": "PlX-mHGdk-8C",
        "outputId": "2d1ae6c7-31f6-4330-d1f9-8b4fd332647f"
      },
      "execution_count": 35,
      "outputs": [
        {
          "output_type": "stream",
          "name": "stdout",
          "text": [
            "EDGE EDGE EDGE EDGE EDGE EDGE EDGE EDGE \n"
          ]
        }
      ]
    },
    {
      "cell_type": "code",
      "source": [
        "x = 5\n",
        "x +=3\n",
        "print(x)\n",
        "x*=3\n",
        "print(x)\n",
        "\n",
        "x/= 4\n",
        "print(x)\n",
        "\n",
        "x %= 3\n",
        "print(x)\n",
        "\n",
        "x //= 3\n",
        "print(x)\n",
        "\n",
        "y=5\n",
        "y ^= 3\n",
        "print(y)\n",
        "\n",
        "y >>= 3\n",
        "print(y)\n",
        "\n",
        "y <<= 3\n",
        "print(y)\n",
        "\n",
        "print(x:=3)\n",
        "\n"
      ],
      "metadata": {
        "colab": {
          "base_uri": "https://localhost:8080/"
        },
        "id": "TkTC9dd3l7Tl",
        "outputId": "5edb71ed-5e5d-4a0f-a4a6-08fc14dcac1b"
      },
      "execution_count": 40,
      "outputs": [
        {
          "output_type": "stream",
          "name": "stdout",
          "text": [
            "8\n",
            "24\n",
            "6.0\n",
            "0.0\n",
            "0.0\n",
            "6\n",
            "0\n",
            "0\n",
            "3\n"
          ]
        }
      ]
    }
  ]
}