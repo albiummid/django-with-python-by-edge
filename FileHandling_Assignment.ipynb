{
  "nbformat": 4,
  "nbformat_minor": 0,
  "metadata": {
    "colab": {
      "provenance": [],
      "mount_file_id": "11dNm9tb2sV2-ewcUo9V5ONmfLMRcZPva",
      "authorship_tag": "ABX9TyOQG0IlENBhE6bu8wqVsLKY",
      "include_colab_link": true
    },
    "kernelspec": {
      "name": "python3",
      "display_name": "Python 3"
    },
    "language_info": {
      "name": "python"
    }
  },
  "cells": [
    {
      "cell_type": "markdown",
      "metadata": {
        "id": "view-in-github",
        "colab_type": "text"
      },
      "source": [
        "<a href=\"https://colab.research.google.com/github/albiummid/django-with-python-by-edge/blob/main/FileHandling_Assignment.ipynb\" target=\"_parent\"><img src=\"https://colab.research.google.com/assets/colab-badge.svg\" alt=\"Open In Colab\"/></a>"
      ]
    },
    {
      "cell_type": "markdown",
      "source": [
        "In Python, to read a text file, you need to follow the below steps.\n",
        "\n",
        "\n",
        "\n",
        "**Step 1:** The file needs to be opened for reading using the open() method and pass a file path to the function.\n",
        "\n",
        "\n",
        "\n",
        "**Step 2:** The next step is to read the file, and this can be achieved using several built-in methods such as read(), readline(), readlines().\n",
        "\n",
        "\n",
        "\n",
        "**Step 3:** Once the read operation is performed, the text file must be closed using the close() function.\n",
        "\n",
        "\n",
        "For opening:\n",
        "open(\"file_location\",method);\n",
        "\n",
        "\n",
        "here method:\n",
        "\n",
        "'r' = reading\n",
        "'w' = writing\n",
        "'x' = exclusive creation\n",
        "'a' = open for appending file. If doesn't exists then it will create new file\n",
        "'t' = open a file in text mode (default)\n",
        "'b'  = open in binary mode\n",
        "'+' = open a file for updating\n",
        "\n",
        "\n",
        "\n"
      ],
      "metadata": {
        "id": "hdOEFC5kxjrW"
      }
    },
    {
      "cell_type": "code",
      "source": [],
      "metadata": {
        "id": "9qVAjOEKzO5s"
      },
      "execution_count": null,
      "outputs": []
    },
    {
      "cell_type": "code",
      "execution_count": 5,
      "metadata": {
        "colab": {
          "base_uri": "https://localhost:8080/"
        },
        "id": "yBGkLKCpxYSn",
        "outputId": "1536cf04-f212-4104-8bb6-9d13fd4d3b54"
      },
      "outputs": [
        {
          "output_type": "stream",
          "name": "stdout",
          "text": [
            "<_io.TextIOWrapper name='sample_data/README.md' mode='r' encoding='UTF-8'>\n"
          ]
        }
      ],
      "source": [
        "file = open(\"sample_data/README.md\",'r')\n",
        "print(file)\n",
        "\n",
        "\n"
      ]
    },
    {
      "cell_type": "code",
      "source": [
        "# creating new file if doesn't exists\n",
        "new_file = open('test_file.txt','a')\n",
        "print(new_file)\n",
        "\n"
      ],
      "metadata": {
        "colab": {
          "base_uri": "https://localhost:8080/"
        },
        "id": "R6emNLDGz_az",
        "outputId": "3b02fb1c-af6e-4d8b-d7d7-4bb86f3a9269"
      },
      "execution_count": 6,
      "outputs": [
        {
          "output_type": "stream",
          "name": "stdout",
          "text": [
            "<_io.TextIOWrapper name='test_file.txt' mode='a' encoding='UTF-8'>\n"
          ]
        }
      ]
    },
    {
      "cell_type": "code",
      "source": [
        "# Open file and read content\n",
        "testFile = open('test_file.txt','r')\n",
        "content = testFile.read()\n",
        "print(content)\n",
        "testFile.close()\n",
        "\n",
        "\n"
      ],
      "metadata": {
        "colab": {
          "base_uri": "https://localhost:8080/"
        },
        "id": "wis4kpmD0ETt",
        "outputId": "a39586f0-04c0-46cc-f747-4e0829be9995"
      },
      "execution_count": 15,
      "outputs": [
        {
          "output_type": "stream",
          "name": "stdout",
          "text": [
            "Hello.\n",
            "This is a text file\n",
            "\n"
          ]
        }
      ]
    },
    {
      "cell_type": "code",
      "source": [
        "# For specific lenght of charecter reading\n",
        "testFile = open('test_file.txt','r')\n",
        "content = testFile.read(3)\n",
        "print(content)\n",
        "testFile.close()"
      ],
      "metadata": {
        "colab": {
          "base_uri": "https://localhost:8080/"
        },
        "id": "Wam_4tTY1QSR",
        "outputId": "591cc703-e474-4447-d4cd-711d17894dae"
      },
      "execution_count": 16,
      "outputs": [
        {
          "output_type": "stream",
          "name": "stdout",
          "text": [
            "Hel\n"
          ]
        }
      ]
    },
    {
      "cell_type": "code",
      "source": [
        "# Reading line\n",
        "testFile = open('test_file.txt','r')\n",
        "content = testFile.readline()\n",
        "print(content)\n",
        "testFile.close()"
      ],
      "metadata": {
        "colab": {
          "base_uri": "https://localhost:8080/"
        },
        "id": "jFoKjtHY1UTp",
        "outputId": "1753a459-b3b0-450a-db3f-2c4a5efd23f4"
      },
      "execution_count": 19,
      "outputs": [
        {
          "output_type": "stream",
          "name": "stdout",
          "text": [
            "Hello.\n",
            "\n"
          ]
        }
      ]
    },
    {
      "cell_type": "code",
      "source": [
        "# Travarse  in the line\n",
        "# Program to read all the lines in a file using readline() function\n",
        "file = open(\"test_file.txt\", \"r\")\n",
        "while True:\n",
        "\tcontent=file.readline()\n",
        "\tif not content:\n",
        "\t\tbreak\n",
        "\tprint(content)\n",
        "file.close()"
      ],
      "metadata": {
        "colab": {
          "base_uri": "https://localhost:8080/"
        },
        "id": "Tb53WdMq1ifz",
        "outputId": "391b0ba2-cf73-4c55-b2b8-8539dc229b4b"
      },
      "execution_count": 22,
      "outputs": [
        {
          "output_type": "stream",
          "name": "stdout",
          "text": [
            "Hello.\n",
            "\n",
            "This is a text file\n",
            "\n"
          ]
        }
      ]
    },
    {
      "cell_type": "code",
      "source": [
        "# Read all  lines\n",
        "\n",
        "file = open(\"test_file.txt\", \"r\")\n",
        "content=file.readlines()\n",
        "print(content)\n",
        "file.close()"
      ],
      "metadata": {
        "colab": {
          "base_uri": "https://localhost:8080/"
        },
        "id": "KWQTRnch1zfg",
        "outputId": "0e70df2f-ca85-4dda-e961-3ef02c220648"
      },
      "execution_count": 23,
      "outputs": [
        {
          "output_type": "stream",
          "name": "stdout",
          "text": [
            "['Hello.\\n', 'This is a text file\\n']\n"
          ]
        }
      ]
    },
    {
      "cell_type": "code",
      "source": [],
      "metadata": {
        "id": "Fflx1o-U1zI6"
      },
      "execution_count": null,
      "outputs": []
    }
  ]
}